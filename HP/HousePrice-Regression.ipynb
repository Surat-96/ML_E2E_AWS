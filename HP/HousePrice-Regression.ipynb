{
 "cells": [
  {
   "cell_type": "markdown",
   "metadata": {},
   "source": [
    "## Develope an AI based application that predicts PRICE of a HOUSE"
   ]
  },
  {
   "cell_type": "code",
   "execution_count": 1,
   "metadata": {},
   "outputs": [],
   "source": [
    "# Basic Import\n",
    "import numpy as np\n",
    "import pandas as pd\n",
    "import matplotlib.pyplot as plt \n",
    "%matplotlib inline\n",
    "import seaborn as sns\n",
    "from IPython.display import display\n",
    "from sklearn.preprocessing import OneHotEncoder, StandardScaler\n",
    "from sklearn.preprocessing import LabelEncoder, MinMaxScaler\n",
    "from sklearn.compose import ColumnTransformer\n",
    "from sklearn.model_selection import train_test_split\n",
    "# Modelling\n",
    "from sklearn.metrics import mean_squared_error, mean_absolute_error, r2_score\n",
    "from sklearn.linear_model import LinearRegression, Ridge,Lasso\n",
    "from sklearn.neighbors import KNeighborsRegressor\n",
    "from sklearn.tree import DecisionTreeRegressor\n",
    "from sklearn.svm import SVR\n",
    "from sklearn.ensemble import RandomForestRegressor,AdaBoostRegressor\n",
    "from sklearn.model_selection import RandomizedSearchCV\n",
    "from catboost import CatBoostRegressor\n",
    "from xgboost import XGBRegressor\n",
    "import warnings\n",
    "import pickle"
   ]
  },
  {
   "cell_type": "code",
   "execution_count": 2,
   "metadata": {},
   "outputs": [
    {
     "data": {
      "text/html": [
       "<div>\n",
       "<style scoped>\n",
       "    .dataframe tbody tr th:only-of-type {\n",
       "        vertical-align: middle;\n",
       "    }\n",
       "\n",
       "    .dataframe tbody tr th {\n",
       "        vertical-align: top;\n",
       "    }\n",
       "\n",
       "    .dataframe thead th {\n",
       "        text-align: right;\n",
       "    }\n",
       "</style>\n",
       "<table border=\"1\" class=\"dataframe\">\n",
       "  <thead>\n",
       "    <tr style=\"text-align: right;\">\n",
       "      <th></th>\n",
       "      <th>Avg. Area Income</th>\n",
       "      <th>Avg. Area House Age</th>\n",
       "      <th>Avg. Area Number of Rooms</th>\n",
       "      <th>Avg. Area Number of Bedrooms</th>\n",
       "      <th>Area Population</th>\n",
       "      <th>Price</th>\n",
       "      <th>Address</th>\n",
       "    </tr>\n",
       "  </thead>\n",
       "  <tbody>\n",
       "    <tr>\n",
       "      <th>0</th>\n",
       "      <td>79545.458574</td>\n",
       "      <td>5.682861</td>\n",
       "      <td>7.009188</td>\n",
       "      <td>4.09</td>\n",
       "      <td>23086.800503</td>\n",
       "      <td>1.059034e+06</td>\n",
       "      <td>208 Michael Ferry Apt. 674\\nLaurabury, NE 3701...</td>\n",
       "    </tr>\n",
       "    <tr>\n",
       "      <th>1</th>\n",
       "      <td>79248.642455</td>\n",
       "      <td>6.002900</td>\n",
       "      <td>6.730821</td>\n",
       "      <td>3.09</td>\n",
       "      <td>40173.072174</td>\n",
       "      <td>1.505891e+06</td>\n",
       "      <td>188 Johnson Views Suite 079\\nLake Kathleen, CA...</td>\n",
       "    </tr>\n",
       "    <tr>\n",
       "      <th>2</th>\n",
       "      <td>61287.067179</td>\n",
       "      <td>5.865890</td>\n",
       "      <td>8.512727</td>\n",
       "      <td>5.13</td>\n",
       "      <td>36882.159400</td>\n",
       "      <td>1.058988e+06</td>\n",
       "      <td>9127 Elizabeth Stravenue\\nDanieltown, WI 06482...</td>\n",
       "    </tr>\n",
       "    <tr>\n",
       "      <th>3</th>\n",
       "      <td>63345.240046</td>\n",
       "      <td>7.188236</td>\n",
       "      <td>5.586729</td>\n",
       "      <td>3.26</td>\n",
       "      <td>34310.242831</td>\n",
       "      <td>1.260617e+06</td>\n",
       "      <td>USS Barnett\\nFPO AP 44820</td>\n",
       "    </tr>\n",
       "    <tr>\n",
       "      <th>4</th>\n",
       "      <td>59982.197226</td>\n",
       "      <td>5.040555</td>\n",
       "      <td>7.839388</td>\n",
       "      <td>4.23</td>\n",
       "      <td>26354.109472</td>\n",
       "      <td>6.309435e+05</td>\n",
       "      <td>USNS Raymond\\nFPO AE 09386</td>\n",
       "    </tr>\n",
       "    <tr>\n",
       "      <th>...</th>\n",
       "      <td>...</td>\n",
       "      <td>...</td>\n",
       "      <td>...</td>\n",
       "      <td>...</td>\n",
       "      <td>...</td>\n",
       "      <td>...</td>\n",
       "      <td>...</td>\n",
       "    </tr>\n",
       "    <tr>\n",
       "      <th>4995</th>\n",
       "      <td>60567.944140</td>\n",
       "      <td>7.830362</td>\n",
       "      <td>6.137356</td>\n",
       "      <td>3.46</td>\n",
       "      <td>22837.361035</td>\n",
       "      <td>1.060194e+06</td>\n",
       "      <td>USNS Williams\\nFPO AP 30153-7653</td>\n",
       "    </tr>\n",
       "    <tr>\n",
       "      <th>4996</th>\n",
       "      <td>78491.275435</td>\n",
       "      <td>6.999135</td>\n",
       "      <td>6.576763</td>\n",
       "      <td>4.02</td>\n",
       "      <td>25616.115489</td>\n",
       "      <td>1.482618e+06</td>\n",
       "      <td>PSC 9258, Box 8489\\nAPO AA 42991-3352</td>\n",
       "    </tr>\n",
       "    <tr>\n",
       "      <th>4997</th>\n",
       "      <td>63390.686886</td>\n",
       "      <td>7.250591</td>\n",
       "      <td>4.805081</td>\n",
       "      <td>2.13</td>\n",
       "      <td>33266.145490</td>\n",
       "      <td>1.030730e+06</td>\n",
       "      <td>4215 Tracy Garden Suite 076\\nJoshualand, VA 01...</td>\n",
       "    </tr>\n",
       "    <tr>\n",
       "      <th>4998</th>\n",
       "      <td>68001.331235</td>\n",
       "      <td>5.534388</td>\n",
       "      <td>7.130144</td>\n",
       "      <td>5.44</td>\n",
       "      <td>42625.620156</td>\n",
       "      <td>1.198657e+06</td>\n",
       "      <td>USS Wallace\\nFPO AE 73316</td>\n",
       "    </tr>\n",
       "    <tr>\n",
       "      <th>4999</th>\n",
       "      <td>65510.581804</td>\n",
       "      <td>5.992305</td>\n",
       "      <td>6.792336</td>\n",
       "      <td>4.07</td>\n",
       "      <td>46501.283803</td>\n",
       "      <td>1.298950e+06</td>\n",
       "      <td>37778 George Ridges Apt. 509\\nEast Holly, NV 2...</td>\n",
       "    </tr>\n",
       "  </tbody>\n",
       "</table>\n",
       "<p>5000 rows × 7 columns</p>\n",
       "</div>"
      ],
      "text/plain": [
       "      Avg. Area Income  Avg. Area House Age  Avg. Area Number of Rooms  \\\n",
       "0         79545.458574             5.682861                   7.009188   \n",
       "1         79248.642455             6.002900                   6.730821   \n",
       "2         61287.067179             5.865890                   8.512727   \n",
       "3         63345.240046             7.188236                   5.586729   \n",
       "4         59982.197226             5.040555                   7.839388   \n",
       "...                ...                  ...                        ...   \n",
       "4995      60567.944140             7.830362                   6.137356   \n",
       "4996      78491.275435             6.999135                   6.576763   \n",
       "4997      63390.686886             7.250591                   4.805081   \n",
       "4998      68001.331235             5.534388                   7.130144   \n",
       "4999      65510.581804             5.992305                   6.792336   \n",
       "\n",
       "      Avg. Area Number of Bedrooms  Area Population         Price  \\\n",
       "0                             4.09     23086.800503  1.059034e+06   \n",
       "1                             3.09     40173.072174  1.505891e+06   \n",
       "2                             5.13     36882.159400  1.058988e+06   \n",
       "3                             3.26     34310.242831  1.260617e+06   \n",
       "4                             4.23     26354.109472  6.309435e+05   \n",
       "...                            ...              ...           ...   \n",
       "4995                          3.46     22837.361035  1.060194e+06   \n",
       "4996                          4.02     25616.115489  1.482618e+06   \n",
       "4997                          2.13     33266.145490  1.030730e+06   \n",
       "4998                          5.44     42625.620156  1.198657e+06   \n",
       "4999                          4.07     46501.283803  1.298950e+06   \n",
       "\n",
       "                                                Address  \n",
       "0     208 Michael Ferry Apt. 674\\nLaurabury, NE 3701...  \n",
       "1     188 Johnson Views Suite 079\\nLake Kathleen, CA...  \n",
       "2     9127 Elizabeth Stravenue\\nDanieltown, WI 06482...  \n",
       "3                             USS Barnett\\nFPO AP 44820  \n",
       "4                            USNS Raymond\\nFPO AE 09386  \n",
       "...                                                 ...  \n",
       "4995                   USNS Williams\\nFPO AP 30153-7653  \n",
       "4996              PSC 9258, Box 8489\\nAPO AA 42991-3352  \n",
       "4997  4215 Tracy Garden Suite 076\\nJoshualand, VA 01...  \n",
       "4998                          USS Wallace\\nFPO AE 73316  \n",
       "4999  37778 George Ridges Apt. 509\\nEast Holly, NV 2...  \n",
       "\n",
       "[5000 rows x 7 columns]"
      ]
     },
     "metadata": {},
     "output_type": "display_data"
    }
   ],
   "source": [
    "data=pd.read_csv('Datas/USA_Housing.csv')\n",
    "display(data)"
   ]
  },
  {
   "cell_type": "code",
   "execution_count": 3,
   "metadata": {},
   "outputs": [
    {
     "data": {
      "text/plain": [
       "Avg. Area Income                float64\n",
       "Avg. Area House Age             float64\n",
       "Avg. Area Number of Rooms       float64\n",
       "Avg. Area Number of Bedrooms    float64\n",
       "Area Population                 float64\n",
       "Price                           float64\n",
       "Address                          object\n",
       "dtype: object"
      ]
     },
     "execution_count": 3,
     "metadata": {},
     "output_type": "execute_result"
    }
   ],
   "source": [
    "data.dtypes"
   ]
  },
  {
   "cell_type": "code",
   "execution_count": 4,
   "metadata": {},
   "outputs": [
    {
     "name": "stdout",
     "output_type": "stream",
     "text": [
      "COUNT NO OF NULL IN EACH COLUMN \n",
      " Avg. Area Income                0\n",
      "Avg. Area House Age             0\n",
      "Avg. Area Number of Rooms       0\n",
      "Avg. Area Number of Bedrooms    0\n",
      "Area Population                 0\n",
      "Price                           0\n",
      "Address                         0\n",
      "dtype: int64\n"
     ]
    }
   ],
   "source": [
    "print('COUNT NO OF NULL IN EACH COLUMN','\\n',data.isnull().sum())"
   ]
  },
  {
   "cell_type": "code",
   "execution_count": 5,
   "metadata": {},
   "outputs": [
    {
     "data": {
      "text/plain": [
       "<Axes: >"
      ]
     },
     "execution_count": 5,
     "metadata": {},
     "output_type": "execute_result"
    },
    {
     "data": {
      "image/png": "[encoded data removed]",
      "text/plain": [
       "<Figure size 640x480 with 2 Axes>"
      ]
     },
     "metadata": {},
     "output_type": "display_data"
    }
   ],
   "source": [
    "sns.heatmap(data.isnull(), yticklabels=False)"
   ]
  },
  {
   "cell_type": "code",
   "execution_count": 6,
   "metadata": {},
   "outputs": [
    {
     "data": {
      "text/html": [
       "<div>\n",
       "<style scoped>\n",
       "    .dataframe tbody tr th:only-of-type {\n",
       "        vertical-align: middle;\n",
       "    }\n",
       "\n",
       "    .dataframe tbody tr th {\n",
       "        vertical-align: top;\n",
       "    }\n",
       "\n",
       "    .dataframe thead th {\n",
       "        text-align: right;\n",
       "    }\n",
       "</style>\n",
       "<table border=\"1\" class=\"dataframe\">\n",
       "  <thead>\n",
       "    <tr style=\"text-align: right;\">\n",
       "      <th></th>\n",
       "      <th>AAI</th>\n",
       "      <th>AAHA</th>\n",
       "      <th>AANR</th>\n",
       "      <th>AANB</th>\n",
       "      <th>AP</th>\n",
       "      <th>Price</th>\n",
       "      <th>Address</th>\n",
       "    </tr>\n",
       "  </thead>\n",
       "  <tbody>\n",
       "    <tr>\n",
       "      <th>0</th>\n",
       "      <td>79545.458574</td>\n",
       "      <td>5.682861</td>\n",
       "      <td>7.009188</td>\n",
       "      <td>4.09</td>\n",
       "      <td>23086.800503</td>\n",
       "      <td>1.059034e+06</td>\n",
       "      <td>208 Michael Ferry Apt. 674\\nLaurabury, NE 3701...</td>\n",
       "    </tr>\n",
       "    <tr>\n",
       "      <th>1</th>\n",
       "      <td>79248.642455</td>\n",
       "      <td>6.002900</td>\n",
       "      <td>6.730821</td>\n",
       "      <td>3.09</td>\n",
       "      <td>40173.072174</td>\n",
       "      <td>1.505891e+06</td>\n",
       "      <td>188 Johnson Views Suite 079\\nLake Kathleen, CA...</td>\n",
       "    </tr>\n",
       "    <tr>\n",
       "      <th>2</th>\n",
       "      <td>61287.067179</td>\n",
       "      <td>5.865890</td>\n",
       "      <td>8.512727</td>\n",
       "      <td>5.13</td>\n",
       "      <td>36882.159400</td>\n",
       "      <td>1.058988e+06</td>\n",
       "      <td>9127 Elizabeth Stravenue\\nDanieltown, WI 06482...</td>\n",
       "    </tr>\n",
       "    <tr>\n",
       "      <th>3</th>\n",
       "      <td>63345.240046</td>\n",
       "      <td>7.188236</td>\n",
       "      <td>5.586729</td>\n",
       "      <td>3.26</td>\n",
       "      <td>34310.242831</td>\n",
       "      <td>1.260617e+06</td>\n",
       "      <td>USS Barnett\\nFPO AP 44820</td>\n",
       "    </tr>\n",
       "    <tr>\n",
       "      <th>4</th>\n",
       "      <td>59982.197226</td>\n",
       "      <td>5.040555</td>\n",
       "      <td>7.839388</td>\n",
       "      <td>4.23</td>\n",
       "      <td>26354.109472</td>\n",
       "      <td>6.309435e+05</td>\n",
       "      <td>USNS Raymond\\nFPO AE 09386</td>\n",
       "    </tr>\n",
       "  </tbody>\n",
       "</table>\n",
       "</div>"
      ],
      "text/plain": [
       "            AAI      AAHA      AANR  AANB            AP         Price  \\\n",
       "0  79545.458574  5.682861  7.009188  4.09  23086.800503  1.059034e+06   \n",
       "1  79248.642455  6.002900  6.730821  3.09  40173.072174  1.505891e+06   \n",
       "2  61287.067179  5.865890  8.512727  5.13  36882.159400  1.058988e+06   \n",
       "3  63345.240046  7.188236  5.586729  3.26  34310.242831  1.260617e+06   \n",
       "4  59982.197226  5.040555  7.839388  4.23  26354.109472  6.309435e+05   \n",
       "\n",
       "                                             Address  \n",
       "0  208 Michael Ferry Apt. 674\\nLaurabury, NE 3701...  \n",
       "1  188 Johnson Views Suite 079\\nLake Kathleen, CA...  \n",
       "2  9127 Elizabeth Stravenue\\nDanieltown, WI 06482...  \n",
       "3                          USS Barnett\\nFPO AP 44820  \n",
       "4                         USNS Raymond\\nFPO AE 09386  "
      ]
     },
     "execution_count": 6,
     "metadata": {},
     "output_type": "execute_result"
    }
   ],
   "source": [
    "df = data.rename(columns = {\"Avg. Area Income\": \"AAI\", \"Avg. Area House Age\":\"AAHA\",\n",
    "                                            \"Avg. Area Number of Rooms\":\"AANR\",\"Avg. Area Number of Bedrooms\":\"AANB\",\n",
    "                                              \"Area Population\":\"AP\"}) \n",
    "\n",
    "df.head()"
   ]
  },
  {
   "cell_type": "code",
   "execution_count": 7,
   "metadata": {},
   "outputs": [],
   "source": [
    "df.drop(['Address'],axis=1,inplace=True)"
   ]
  },
  {
   "cell_type": "code",
   "execution_count": 8,
   "metadata": {},
   "outputs": [
    {
     "data": {
      "text/html": [
       "<style type=\"text/css\">\n",
       "#T_08303_row0_col0, #T_08303_row1_col1, #T_08303_row2_col2, #T_08303_row3_col3, #T_08303_row4_col4, #T_08303_row5_col5 {\n",
       "  background-color: #023858;\n",
       "  color: #f1f1f1;\n",
       "}\n",
       "#T_08303_row0_col1, #T_08303_row1_col0, #T_08303_row4_col2 {\n",
       "  background-color: #fdf5fa;\n",
       "  color: #000000;\n",
       "}\n",
       "#T_08303_row0_col2, #T_08303_row1_col2, #T_08303_row1_col4, #T_08303_row3_col4, #T_08303_row3_col5, #T_08303_row4_col0, #T_08303_row4_col1, #T_08303_row4_col3 {\n",
       "  background-color: #fff7fb;\n",
       "  color: #000000;\n",
       "}\n",
       "#T_08303_row0_col3 {\n",
       "  background-color: #f9f2f8;\n",
       "  color: #000000;\n",
       "}\n",
       "#T_08303_row0_col4, #T_08303_row2_col0 {\n",
       "  background-color: #fef6fb;\n",
       "  color: #000000;\n",
       "}\n",
       "#T_08303_row0_col5 {\n",
       "  background-color: #549cc7;\n",
       "  color: #f1f1f1;\n",
       "}\n",
       "#T_08303_row1_col3 {\n",
       "  background-color: #fbf3f9;\n",
       "  color: #000000;\n",
       "}\n",
       "#T_08303_row1_col5 {\n",
       "  background-color: #b3c3de;\n",
       "  color: #000000;\n",
       "}\n",
       "#T_08303_row2_col1 {\n",
       "  background-color: #fef6fa;\n",
       "  color: #000000;\n",
       "}\n",
       "#T_08303_row2_col3 {\n",
       "  background-color: #7eadd1;\n",
       "  color: #f1f1f1;\n",
       "}\n",
       "#T_08303_row2_col4, #T_08303_row3_col1 {\n",
       "  background-color: #fbf4f9;\n",
       "  color: #000000;\n",
       "}\n",
       "#T_08303_row2_col5 {\n",
       "  background-color: #dcdaeb;\n",
       "  color: #000000;\n",
       "}\n",
       "#T_08303_row3_col0 {\n",
       "  background-color: #faf2f8;\n",
       "  color: #000000;\n",
       "}\n",
       "#T_08303_row3_col2 {\n",
       "  background-color: #81aed2;\n",
       "  color: #f1f1f1;\n",
       "}\n",
       "#T_08303_row4_col5 {\n",
       "  background-color: #c4cbe3;\n",
       "  color: #000000;\n",
       "}\n",
       "#T_08303_row5_col0 {\n",
       "  background-color: #2d8abd;\n",
       "  color: #f1f1f1;\n",
       "}\n",
       "#T_08303_row5_col1 {\n",
       "  background-color: #83afd3;\n",
       "  color: #f1f1f1;\n",
       "}\n",
       "#T_08303_row5_col2 {\n",
       "  background-color: #b1c2de;\n",
       "  color: #000000;\n",
       "}\n",
       "#T_08303_row5_col3 {\n",
       "  background-color: #dedcec;\n",
       "  color: #000000;\n",
       "}\n",
       "#T_08303_row5_col4 {\n",
       "  background-color: #94b6d7;\n",
       "  color: #000000;\n",
       "}\n",
       "</style>\n",
       "<table id=\"T_08303\">\n",
       "  <thead>\n",
       "    <tr>\n",
       "      <th class=\"blank level0\" >&nbsp;</th>\n",
       "      <th id=\"T_08303_level0_col0\" class=\"col_heading level0 col0\" >AAI</th>\n",
       "      <th id=\"T_08303_level0_col1\" class=\"col_heading level0 col1\" >AAHA</th>\n",
       "      <th id=\"T_08303_level0_col2\" class=\"col_heading level0 col2\" >AANR</th>\n",
       "      <th id=\"T_08303_level0_col3\" class=\"col_heading level0 col3\" >AANB</th>\n",
       "      <th id=\"T_08303_level0_col4\" class=\"col_heading level0 col4\" >AP</th>\n",
       "      <th id=\"T_08303_level0_col5\" class=\"col_heading level0 col5\" >Price</th>\n",
       "    </tr>\n",
       "  </thead>\n",
       "  <tbody>\n",
       "    <tr>\n",
       "      <th id=\"T_08303_level0_row0\" class=\"row_heading level0 row0\" >AAI</th>\n",
       "      <td id=\"T_08303_row0_col0\" class=\"data row0 col0\" >1.000000</td>\n",
       "      <td id=\"T_08303_row0_col1\" class=\"data row0 col1\" >-0.002007</td>\n",
       "      <td id=\"T_08303_row0_col2\" class=\"data row0 col2\" >-0.011032</td>\n",
       "      <td id=\"T_08303_row0_col3\" class=\"data row0 col3\" >0.019788</td>\n",
       "      <td id=\"T_08303_row0_col4\" class=\"data row0 col4\" >-0.016234</td>\n",
       "      <td id=\"T_08303_row0_col5\" class=\"data row0 col5\" >0.639734</td>\n",
       "    </tr>\n",
       "    <tr>\n",
       "      <th id=\"T_08303_level0_row1\" class=\"row_heading level0 row1\" >AAHA</th>\n",
       "      <td id=\"T_08303_row1_col0\" class=\"data row1 col0\" >-0.002007</td>\n",
       "      <td id=\"T_08303_row1_col1\" class=\"data row1 col1\" >1.000000</td>\n",
       "      <td id=\"T_08303_row1_col2\" class=\"data row1 col2\" >-0.009428</td>\n",
       "      <td id=\"T_08303_row1_col3\" class=\"data row1 col3\" >0.006149</td>\n",
       "      <td id=\"T_08303_row1_col4\" class=\"data row1 col4\" >-0.018743</td>\n",
       "      <td id=\"T_08303_row1_col5\" class=\"data row1 col5\" >0.452543</td>\n",
       "    </tr>\n",
       "    <tr>\n",
       "      <th id=\"T_08303_level0_row2\" class=\"row_heading level0 row2\" >AANR</th>\n",
       "      <td id=\"T_08303_row2_col0\" class=\"data row2 col0\" >-0.011032</td>\n",
       "      <td id=\"T_08303_row2_col1\" class=\"data row2 col1\" >-0.009428</td>\n",
       "      <td id=\"T_08303_row2_col2\" class=\"data row2 col2\" >1.000000</td>\n",
       "      <td id=\"T_08303_row2_col3\" class=\"data row2 col3\" >0.462695</td>\n",
       "      <td id=\"T_08303_row2_col4\" class=\"data row2 col4\" >0.002040</td>\n",
       "      <td id=\"T_08303_row2_col5\" class=\"data row2 col5\" >0.335664</td>\n",
       "    </tr>\n",
       "    <tr>\n",
       "      <th id=\"T_08303_level0_row3\" class=\"row_heading level0 row3\" >AANB</th>\n",
       "      <td id=\"T_08303_row3_col0\" class=\"data row3 col0\" >0.019788</td>\n",
       "      <td id=\"T_08303_row3_col1\" class=\"data row3 col1\" >0.006149</td>\n",
       "      <td id=\"T_08303_row3_col2\" class=\"data row3 col2\" >0.462695</td>\n",
       "      <td id=\"T_08303_row3_col3\" class=\"data row3 col3\" >1.000000</td>\n",
       "      <td id=\"T_08303_row3_col4\" class=\"data row3 col4\" >-0.022168</td>\n",
       "      <td id=\"T_08303_row3_col5\" class=\"data row3 col5\" >0.171071</td>\n",
       "    </tr>\n",
       "    <tr>\n",
       "      <th id=\"T_08303_level0_row4\" class=\"row_heading level0 row4\" >AP</th>\n",
       "      <td id=\"T_08303_row4_col0\" class=\"data row4 col0\" >-0.016234</td>\n",
       "      <td id=\"T_08303_row4_col1\" class=\"data row4 col1\" >-0.018743</td>\n",
       "      <td id=\"T_08303_row4_col2\" class=\"data row4 col2\" >0.002040</td>\n",
       "      <td id=\"T_08303_row4_col3\" class=\"data row4 col3\" >-0.022168</td>\n",
       "      <td id=\"T_08303_row4_col4\" class=\"data row4 col4\" >1.000000</td>\n",
       "      <td id=\"T_08303_row4_col5\" class=\"data row4 col5\" >0.408556</td>\n",
       "    </tr>\n",
       "    <tr>\n",
       "      <th id=\"T_08303_level0_row5\" class=\"row_heading level0 row5\" >Price</th>\n",
       "      <td id=\"T_08303_row5_col0\" class=\"data row5 col0\" >0.639734</td>\n",
       "      <td id=\"T_08303_row5_col1\" class=\"data row5 col1\" >0.452543</td>\n",
       "      <td id=\"T_08303_row5_col2\" class=\"data row5 col2\" >0.335664</td>\n",
       "      <td id=\"T_08303_row5_col3\" class=\"data row5 col3\" >0.171071</td>\n",
       "      <td id=\"T_08303_row5_col4\" class=\"data row5 col4\" >0.408556</td>\n",
       "      <td id=\"T_08303_row5_col5\" class=\"data row5 col5\" >1.000000</td>\n",
       "    </tr>\n",
       "  </tbody>\n",
       "</table>\n"
      ],
      "text/plain": [
       "<pandas.io.formats.style.Styler at 0x144119222c0>"
      ]
     },
     "execution_count": 8,
     "metadata": {},
     "output_type": "execute_result"
    }
   ],
   "source": [
    "corel = df.corr()\n",
    "corel.style.background_gradient()"
   ]
  },
  {
   "cell_type": "code",
   "execution_count": 9,
   "metadata": {},
   "outputs": [
    {
     "data": {
      "text/plain": [
       "Price    1.000000\n",
       "AAI      0.639734\n",
       "AAHA     0.452543\n",
       "AP       0.408556\n",
       "AANR     0.335664\n",
       "AANB     0.171071\n",
       "Name: Price, dtype: float64"
      ]
     },
     "execution_count": 9,
     "metadata": {},
     "output_type": "execute_result"
    }
   ],
   "source": [
    "corel.nlargest(6,'Price')['Price']"
   ]
  },
  {
   "cell_type": "code",
   "execution_count": 10,
   "metadata": {},
   "outputs": [
    {
     "name": "stdout",
     "output_type": "stream",
     "text": [
      "We have 6 numerical features : ['AAI', 'AAHA', 'AANR', 'AANB', 'AP', 'Price']\n"
     ]
    }
   ],
   "source": [
    "# define numerical & categorical columns\n",
    "numeric_features = [feature for feature in df.columns if df[feature].dtype != 'O']\n",
    "#categorical_features = [feature for feature in df.columns if df[feature].dtype == 'O']\n",
    "\n",
    "# print columns\n",
    "print('We have {} numerical features : {}'.format(len(numeric_features), numeric_features))\n",
    "#print('\\nWe have {} categorical features : {}'.format(len(categorical_features), categorical_features))"
   ]
  },
  {
   "cell_type": "code",
   "execution_count": 11,
   "metadata": {},
   "outputs": [
    {
     "name": "stderr",
     "output_type": "stream",
     "text": [
      "C:\\Users\\Surat\\AppData\\Local\\Temp\\ipykernel_20828\\3499227362.py:1: UserWarning: \n",
      "\n",
      "`distplot` is a deprecated function and will be removed in seaborn v0.14.0.\n",
      "\n",
      "Please adapt your code to use either `displot` (a figure-level function with\n",
      "similar flexibility) or `histplot` (an axes-level function for histograms).\n",
      "\n",
      "For a guide to updating your code to use the new functions, please see\n",
      "https://gist.github.com/mwaskom/de44147ed2974457ad6372750bbe5751\n",
      "\n",
      "  sns.distplot(df['AAI'])\n"
     ]
    },
    {
     "data": {
      "text/plain": [
       "<Axes: xlabel='AAI', ylabel='Density'>"
      ]
     },
     "execution_count": 11,
     "metadata": {},
     "output_type": "execute_result"
    },
    {
     "data": {
      "image/png": "[encoded data removed]",
      "text/plain": [
       "<Figure size 640x480 with 1 Axes>"
      ]
     },
     "metadata": {},
     "output_type": "display_data"
    }
   ],
   "source": [
    "sns.distplot(df['AAI'])"
   ]
  },
  {
   "cell_type": "code",
   "execution_count": 12,
   "metadata": {},
   "outputs": [
    {
     "name": "stderr",
     "output_type": "stream",
     "text": [
      "C:\\Users\\Surat\\AppData\\Local\\Temp\\ipykernel_20828\\2845913197.py:1: UserWarning: \n",
      "\n",
      "`distplot` is a deprecated function and will be removed in seaborn v0.14.0.\n",
      "\n",
      "Please adapt your code to use either `displot` (a figure-level function with\n",
      "similar flexibility) or `histplot` (an axes-level function for histograms).\n",
      "\n",
      "For a guide to updating your code to use the new functions, please see\n",
      "https://gist.github.com/mwaskom/de44147ed2974457ad6372750bbe5751\n",
      "\n",
      "  sns.distplot(df['AAHA'])\n"
     ]
    },
    {
     "data": {
      "text/plain": [
       "<Axes: xlabel='AAHA', ylabel='Density'>"
      ]
     },
     "execution_count": 12,
     "metadata": {},
     "output_type": "execute_result"
    },
    {
     "data": {
      "image/png": "[encoded data removed]",
      "text/plain": [
       "<Figure size 640x480 with 1 Axes>"
      ]
     },
     "metadata": {},
     "output_type": "display_data"
    }
   ],
   "source": [
    "sns.distplot(df['AAHA'])"
   ]
  },
  {
   "cell_type": "code",
   "execution_count": 13,
   "metadata": {},
   "outputs": [
    {
     "name": "stderr",
     "output_type": "stream",
     "text": [
      "C:\\Users\\Surat\\AppData\\Local\\Temp\\ipykernel_20828\\860240983.py:1: UserWarning: \n",
      "\n",
      "`distplot` is a deprecated function and will be removed in seaborn v0.14.0.\n",
      "\n",
      "Please adapt your code to use either `displot` (a figure-level function with\n",
      "similar flexibility) or `histplot` (an axes-level function for histograms).\n",
      "\n",
      "For a guide to updating your code to use the new functions, please see\n",
      "https://gist.github.com/mwaskom/de44147ed2974457ad6372750bbe5751\n",
      "\n",
      "  sns.distplot(df['AANR'])\n"
     ]
    },
    {
     "data": {
      "text/plain": [
       "<Axes: xlabel='AANR', ylabel='Density'>"
      ]
     },
     "execution_count": 13,
     "metadata": {},
     "output_type": "execute_result"
    },
    {
     "data": {
      "image/png": "[encoded data removed]",
      "text/plain": [
       "<Figure size 640x480 with 1 Axes>"
      ]
     },
     "metadata": {},
     "output_type": "display_data"
    }
   ],
   "source": [
    "sns.distplot(df['AANR'])"
   ]
  },
  {
   "cell_type": "code",
   "execution_count": 14,
   "metadata": {},
   "outputs": [
    {
     "name": "stderr",
     "output_type": "stream",
     "text": [
      "C:\\Users\\Surat\\AppData\\Local\\Temp\\ipykernel_20828\\38363504.py:1: UserWarning: \n",
      "\n",
      "`distplot` is a deprecated function and will be removed in seaborn v0.14.0.\n",
      "\n",
      "Please adapt your code to use either `displot` (a figure-level function with\n",
      "similar flexibility) or `histplot` (an axes-level function for histograms).\n",
      "\n",
      "For a guide to updating your code to use the new functions, please see\n",
      "https://gist.github.com/mwaskom/de44147ed2974457ad6372750bbe5751\n",
      "\n",
      "  sns.distplot(df['AANB'])\n"
     ]
    },
    {
     "data": {
      "text/plain": [
       "<Axes: xlabel='AANB', ylabel='Density'>"
      ]
     },
     "execution_count": 14,
     "metadata": {},
     "output_type": "execute_result"
    },
    {
     "data": {
      "image/png": "[encoded data removed]",
      "text/plain": [
       "<Figure size 640x480 with 1 Axes>"
      ]
     },
     "metadata": {},
     "output_type": "display_data"
    }
   ],
   "source": [
    "sns.distplot(df['AANB'])"
   ]
  },
  {
   "cell_type": "code",
   "execution_count": 15,
   "metadata": {},
   "outputs": [
    {
     "name": "stderr",
     "output_type": "stream",
     "text": [
      "C:\\Users\\Surat\\AppData\\Local\\Temp\\ipykernel_20828\\3917061066.py:1: UserWarning: \n",
      "\n",
      "`distplot` is a deprecated function and will be removed in seaborn v0.14.0.\n",
      "\n",
      "Please adapt your code to use either `displot` (a figure-level function with\n",
      "similar flexibility) or `histplot` (an axes-level function for histograms).\n",
      "\n",
      "For a guide to updating your code to use the new functions, please see\n",
      "https://gist.github.com/mwaskom/de44147ed2974457ad6372750bbe5751\n",
      "\n",
      "  sns.distplot(df['AP'])\n"
     ]
    },
    {
     "data": {
      "text/plain": [
       "<Axes: xlabel='AP', ylabel='Density'>"
      ]
     },
     "execution_count": 15,
     "metadata": {},
     "output_type": "execute_result"
    },
    {
     "data": {
      "image/png": "[encoded data removed]",
      "text/plain": [
       "<Figure size 640x480 with 1 Axes>"
      ]
     },
     "metadata": {},
     "output_type": "display_data"
    }
   ],
   "source": [
    "sns.distplot(df['AP'])"
   ]
  },
  {
   "cell_type": "code",
   "execution_count": 16,
   "metadata": {},
   "outputs": [
    {
     "data": {
      "text/plain": [
       "<Axes: xlabel='AP'>"
      ]
     },
     "execution_count": 16,
     "metadata": {},
     "output_type": "execute_result"
    },
    {
     "data": {
      "image/png": "[encoded data removed]",
      "text/plain": [
       "<Figure size 640x480 with 1 Axes>"
      ]
     },
     "metadata": {},
     "output_type": "display_data"
    }
   ],
   "source": [
    "sns.boxplot(x=df['AP'])"
   ]
  },
  {
   "cell_type": "code",
   "execution_count": 17,
   "metadata": {},
   "outputs": [
    {
     "name": "stdout",
     "output_type": "stream",
     "text": [
      "29403.928701608518 42861.290768915605\n",
      "13457.362067307087\n",
      "9217.885600647885\n",
      "63047.33386987624\n"
     ]
    }
   ],
   "source": [
    "arr= df['AP'].values\n",
    "\n",
    "arr = np.sort(arr)\n",
    "\n",
    "Q1,Q3 = np.percentile(arr , [25,75])\n",
    "print(Q1, Q3)\n",
    "\n",
    "IQR = (Q3 - Q1)\n",
    "print(IQR)\n",
    "\n",
    "lower_range = Q1 -(1.5 * IQR)\n",
    "print(lower_range)\n",
    "\n",
    "upper_range = Q3 + (1.5 * IQR)\n",
    "print(upper_range)\n",
    "\n",
    "#df[(df['AP'] < lower_range) | (df['AP'] > upper_range)]"
   ]
  },
  {
   "cell_type": "code",
   "execution_count": 18,
   "metadata": {},
   "outputs": [
    {
     "name": "stdout",
     "output_type": "stream",
     "text": [
      "BEFORE REMOVING OUTLIER FOR HEAD SIZE SHAPE IS  (5000, 6)\n",
      "AFTER REMOVING OUTLIER FOR HEAD SIZE SHAPE IS  (4970, 6)\n"
     ]
    }
   ],
   "source": [
    "print ('BEFORE REMOVING OUTLIER FOR HEAD SIZE SHAPE IS ', df.shape)\n",
    "\n",
    "df.drop(df[(df['AP'] < lower_range) | (df['AP'] > upper_range)].index , inplace=True)\n",
    "\n",
    "print ('AFTER REMOVING OUTLIER FOR HEAD SIZE SHAPE IS ', df.shape)"
   ]
  },
  {
   "cell_type": "code",
   "execution_count": 19,
   "metadata": {},
   "outputs": [
    {
     "data": {
      "text/plain": [
       "<Axes: xlabel='AANR'>"
      ]
     },
     "execution_count": 19,
     "metadata": {},
     "output_type": "execute_result"
    },
    {
     "data": {
      "image/png": "[encoded data removed]",
      "text/plain": [
       "<Figure size 640x480 with 1 Axes>"
      ]
     },
     "metadata": {},
     "output_type": "display_data"
    }
   ],
   "source": [
    "sns.boxplot(x=df['AANR'])"
   ]
  },
  {
   "cell_type": "code",
   "execution_count": 20,
   "metadata": {},
   "outputs": [
    {
     "name": "stdout",
     "output_type": "stream",
     "text": [
      "BEFORE REMOVING OUTLIER FOR HEAD SIZE SHAPE IS  (4970, 6)\n",
      "6.296989890982829 7.665494747799624\n",
      "1.368504856816795\n",
      "4.244232605757636\n",
      "9.718252033024816\n"
     ]
    }
   ],
   "source": [
    "print ('BEFORE REMOVING OUTLIER FOR HEAD SIZE SHAPE IS ', df.shape)\n",
    "\n",
    "arr1= df['AANR'].values\n",
    "\n",
    "arr1 = np.sort(arr1)\n",
    "\n",
    "Q1,Q3 = np.percentile(arr1 , [25,75])\n",
    "print(Q1, Q3)\n",
    "\n",
    "IQR = (Q3 - Q1)\n",
    "print(IQR)\n",
    "\n",
    "lower_range = Q1 -(1.5 * IQR)\n",
    "print(lower_range)\n",
    "\n",
    "upper_range = Q3 + (1.5 * IQR)\n",
    "print(upper_range)\n",
    "\n",
    "#df[(df['AANR'] < lower_range) | (df['AANR'] > upper_range)]"
   ]
  },
  {
   "cell_type": "code",
   "execution_count": 21,
   "metadata": {},
   "outputs": [
    {
     "name": "stdout",
     "output_type": "stream",
     "text": [
      "AFTER REMOVING OUTLIER FOR HEAD SIZE SHAPE IS  (4946, 6)\n"
     ]
    }
   ],
   "source": [
    "df.drop(df[(df['AANR'] < lower_range) | (df['AANR'] > upper_range)].index , inplace=True)\n",
    "\n",
    "print ('AFTER REMOVING OUTLIER FOR HEAD SIZE SHAPE IS ', df.shape)"
   ]
  },
  {
   "cell_type": "code",
   "execution_count": 22,
   "metadata": {},
   "outputs": [
    {
     "data": {
      "text/plain": [
       "<Axes: xlabel='AAHA'>"
      ]
     },
     "execution_count": 22,
     "metadata": {},
     "output_type": "execute_result"
    },
    {
     "data": {
      "image/png": "[encoded data removed]",
      "text/plain": [
       "<Figure size 640x480 with 1 Axes>"
      ]
     },
     "metadata": {},
     "output_type": "display_data"
    }
   ],
   "source": [
    "sns.boxplot(x=df['AAHA'])"
   ]
  },
  {
   "cell_type": "code",
   "execution_count": 23,
   "metadata": {},
   "outputs": [
    {
     "name": "stdout",
     "output_type": "stream",
     "text": [
      "BEFORE REMOVING OUTLIER FOR HEAD SIZE SHAPE IS  (4946, 6)\n",
      "5.324372103007897 6.648156536987428\n",
      "1.3237844339795313\n",
      "3.3386954520386\n",
      "8.633833187956725\n"
     ]
    }
   ],
   "source": [
    "print ('BEFORE REMOVING OUTLIER FOR HEAD SIZE SHAPE IS ', df.shape)\n",
    "\n",
    "arr2= df['AAHA'].values\n",
    "\n",
    "arr1 = np.sort(arr2)\n",
    "\n",
    "Q1,Q3 = np.percentile(arr2 , [25,75])\n",
    "print(Q1, Q3)\n",
    "\n",
    "IQR = (Q3 - Q1)\n",
    "print(IQR)\n",
    "\n",
    "lower_range = Q1 -(1.5 * IQR)\n",
    "print(lower_range)\n",
    "\n",
    "upper_range = Q3 + (1.5 * IQR)\n",
    "print(upper_range)\n",
    "\n",
    "#df[(df['AAHA'] < lower_range) | (df['AAHA'] > upper_range)]"
   ]
  },
  {
   "cell_type": "code",
   "execution_count": 24,
   "metadata": {},
   "outputs": [
    {
     "name": "stdout",
     "output_type": "stream",
     "text": [
      "AFTER REMOVING OUTLIER FOR HEAD SIZE SHAPE IS  (4920, 6)\n"
     ]
    }
   ],
   "source": [
    "df.drop(df[(df['AAHA'] < lower_range) | (df['AAHA'] > upper_range)].index , inplace=True)\n",
    "\n",
    "print ('AFTER REMOVING OUTLIER FOR HEAD SIZE SHAPE IS ', df.shape)"
   ]
  },
  {
   "cell_type": "code",
   "execution_count": 25,
   "metadata": {},
   "outputs": [
    {
     "data": {
      "text/plain": [
       "<Axes: xlabel='AAHA'>"
      ]
     },
     "execution_count": 25,
     "metadata": {},
     "output_type": "execute_result"
    },
    {
     "data": {
      "image/png": "[encoded data removed]",
      "text/plain": [
       "<Figure size 640x480 with 1 Axes>"
      ]
     },
     "metadata": {},
     "output_type": "display_data"
    }
   ],
   "source": [
    "sns.boxplot(x=df['AAHA'])"
   ]
  },
  {
   "cell_type": "code",
   "execution_count": 26,
   "metadata": {},
   "outputs": [
    {
     "data": {
      "text/plain": [
       "<Axes: xlabel='AAI'>"
      ]
     },
     "execution_count": 26,
     "metadata": {},
     "output_type": "execute_result"
    },
    {
     "data": {
      "image/png": "[encoded data removed]",
      "text/plain": [
       "<Figure size 640x480 with 1 Axes>"
      ]
     },
     "metadata": {},
     "output_type": "display_data"
    }
   ],
   "source": [
    "sns.boxplot(x=df['AAI'])"
   ]
  },
  {
   "cell_type": "code",
   "execution_count": 27,
   "metadata": {},
   "outputs": [
    {
     "name": "stdout",
     "output_type": "stream",
     "text": [
      "BEFORE REMOVING OUTLIER FOR HEAD SIZE SHAPE IS  (4920, 6)\n",
      "61485.15018827292 75828.04980038168\n",
      "14342.899612108755\n",
      "39970.80077010979\n",
      "97342.3992185448\n"
     ]
    }
   ],
   "source": [
    "print ('BEFORE REMOVING OUTLIER FOR HEAD SIZE SHAPE IS ', df.shape)\n",
    "\n",
    "arr3= df['AAI'].values\n",
    "\n",
    "arr3 = np.sort(arr3)\n",
    "\n",
    "Q1,Q3 = np.percentile(arr3 , [25,75])\n",
    "print(Q1, Q3)\n",
    "\n",
    "IQR = (Q3 - Q1)\n",
    "print(IQR)\n",
    "\n",
    "lower_range = Q1 -(1.5 * IQR)\n",
    "print(lower_range)\n",
    "\n",
    "upper_range = Q3 + (1.5 * IQR)\n",
    "print(upper_range)\n",
    "\n",
    "#df[(df['AAI'] < lower_range) | (df['AAI'] > upper_range)]"
   ]
  },
  {
   "cell_type": "code",
   "execution_count": 28,
   "metadata": {},
   "outputs": [
    {
     "name": "stdout",
     "output_type": "stream",
     "text": [
      "AFTER REMOVING OUTLIER FOR HEAD SIZE SHAPE IS  (4889, 6)\n"
     ]
    }
   ],
   "source": [
    "df.drop(df[(df['AAI'] < lower_range) | (df['AAI'] > upper_range)].index , inplace=True)\n",
    "\n",
    "print ('AFTER REMOVING OUTLIER FOR HEAD SIZE SHAPE IS ', df.shape)"
   ]
  },
  {
   "cell_type": "code",
   "execution_count": 29,
   "metadata": {},
   "outputs": [
    {
     "data": {
      "text/plain": [
       "<Axes: xlabel='AAI'>"
      ]
     },
     "execution_count": 29,
     "metadata": {},
     "output_type": "execute_result"
    },
    {
     "data": {
      "image/png": "[encoded data removed]",
      "text/plain": [
       "<Figure size 640x480 with 1 Axes>"
      ]
     },
     "metadata": {},
     "output_type": "display_data"
    }
   ],
   "source": [
    "sns.boxplot(x=df['AAI'])"
   ]
  },
  {
   "cell_type": "markdown",
   "metadata": {},
   "source": [
    "## CREATE Output & Input Data &TRAIN AND TEST DATA"
   ]
  },
  {
   "cell_type": "code",
   "execution_count": 30,
   "metadata": {},
   "outputs": [
    {
     "data": {
      "text/plain": [
       "0       1.059034e+06\n",
       "1       1.505891e+06\n",
       "2       1.058988e+06\n",
       "3       1.260617e+06\n",
       "4       6.309435e+05\n",
       "            ...     \n",
       "4995    1.060194e+06\n",
       "4996    1.482618e+06\n",
       "4997    1.030730e+06\n",
       "4998    1.198657e+06\n",
       "4999    1.298950e+06\n",
       "Name: Price, Length: 4889, dtype: float64"
      ]
     },
     "metadata": {},
     "output_type": "display_data"
    },
    {
     "data": {
      "text/plain": [
       "'\\n\\n'"
      ]
     },
     "metadata": {},
     "output_type": "display_data"
    },
    {
     "data": {
      "text/html": [
       "<div>\n",
       "<style scoped>\n",
       "    .dataframe tbody tr th:only-of-type {\n",
       "        vertical-align: middle;\n",
       "    }\n",
       "\n",
       "    .dataframe tbody tr th {\n",
       "        vertical-align: top;\n",
       "    }\n",
       "\n",
       "    .dataframe thead th {\n",
       "        text-align: right;\n",
       "    }\n",
       "</style>\n",
       "<table border=\"1\" class=\"dataframe\">\n",
       "  <thead>\n",
       "    <tr style=\"text-align: right;\">\n",
       "      <th></th>\n",
       "      <th>AAI</th>\n",
       "      <th>AAHA</th>\n",
       "      <th>AANR</th>\n",
       "      <th>AANB</th>\n",
       "      <th>AP</th>\n",
       "    </tr>\n",
       "  </thead>\n",
       "  <tbody>\n",
       "    <tr>\n",
       "      <th>0</th>\n",
       "      <td>79545.458574</td>\n",
       "      <td>5.682861</td>\n",
       "      <td>7.009188</td>\n",
       "      <td>4.09</td>\n",
       "      <td>23086.800503</td>\n",
       "    </tr>\n",
       "    <tr>\n",
       "      <th>1</th>\n",
       "      <td>79248.642455</td>\n",
       "      <td>6.002900</td>\n",
       "      <td>6.730821</td>\n",
       "      <td>3.09</td>\n",
       "      <td>40173.072174</td>\n",
       "    </tr>\n",
       "    <tr>\n",
       "      <th>2</th>\n",
       "      <td>61287.067179</td>\n",
       "      <td>5.865890</td>\n",
       "      <td>8.512727</td>\n",
       "      <td>5.13</td>\n",
       "      <td>36882.159400</td>\n",
       "    </tr>\n",
       "    <tr>\n",
       "      <th>3</th>\n",
       "      <td>63345.240046</td>\n",
       "      <td>7.188236</td>\n",
       "      <td>5.586729</td>\n",
       "      <td>3.26</td>\n",
       "      <td>34310.242831</td>\n",
       "    </tr>\n",
       "    <tr>\n",
       "      <th>4</th>\n",
       "      <td>59982.197226</td>\n",
       "      <td>5.040555</td>\n",
       "      <td>7.839388</td>\n",
       "      <td>4.23</td>\n",
       "      <td>26354.109472</td>\n",
       "    </tr>\n",
       "    <tr>\n",
       "      <th>...</th>\n",
       "      <td>...</td>\n",
       "      <td>...</td>\n",
       "      <td>...</td>\n",
       "      <td>...</td>\n",
       "      <td>...</td>\n",
       "    </tr>\n",
       "    <tr>\n",
       "      <th>4995</th>\n",
       "      <td>60567.944140</td>\n",
       "      <td>7.830362</td>\n",
       "      <td>6.137356</td>\n",
       "      <td>3.46</td>\n",
       "      <td>22837.361035</td>\n",
       "    </tr>\n",
       "    <tr>\n",
       "      <th>4996</th>\n",
       "      <td>78491.275435</td>\n",
       "      <td>6.999135</td>\n",
       "      <td>6.576763</td>\n",
       "      <td>4.02</td>\n",
       "      <td>25616.115489</td>\n",
       "    </tr>\n",
       "    <tr>\n",
       "      <th>4997</th>\n",
       "      <td>63390.686886</td>\n",
       "      <td>7.250591</td>\n",
       "      <td>4.805081</td>\n",
       "      <td>2.13</td>\n",
       "      <td>33266.145490</td>\n",
       "    </tr>\n",
       "    <tr>\n",
       "      <th>4998</th>\n",
       "      <td>68001.331235</td>\n",
       "      <td>5.534388</td>\n",
       "      <td>7.130144</td>\n",
       "      <td>5.44</td>\n",
       "      <td>42625.620156</td>\n",
       "    </tr>\n",
       "    <tr>\n",
       "      <th>4999</th>\n",
       "      <td>65510.581804</td>\n",
       "      <td>5.992305</td>\n",
       "      <td>6.792336</td>\n",
       "      <td>4.07</td>\n",
       "      <td>46501.283803</td>\n",
       "    </tr>\n",
       "  </tbody>\n",
       "</table>\n",
       "<p>4889 rows × 5 columns</p>\n",
       "</div>"
      ],
      "text/plain": [
       "               AAI      AAHA      AANR  AANB            AP\n",
       "0     79545.458574  5.682861  7.009188  4.09  23086.800503\n",
       "1     79248.642455  6.002900  6.730821  3.09  40173.072174\n",
       "2     61287.067179  5.865890  8.512727  5.13  36882.159400\n",
       "3     63345.240046  7.188236  5.586729  3.26  34310.242831\n",
       "4     59982.197226  5.040555  7.839388  4.23  26354.109472\n",
       "...            ...       ...       ...   ...           ...\n",
       "4995  60567.944140  7.830362  6.137356  3.46  22837.361035\n",
       "4996  78491.275435  6.999135  6.576763  4.02  25616.115489\n",
       "4997  63390.686886  7.250591  4.805081  2.13  33266.145490\n",
       "4998  68001.331235  5.534388  7.130144  5.44  42625.620156\n",
       "4999  65510.581804  5.992305  6.792336  4.07  46501.283803\n",
       "\n",
       "[4889 rows x 5 columns]"
      ]
     },
     "metadata": {},
     "output_type": "display_data"
    }
   ],
   "source": [
    "opd= df['Price']\n",
    "ipd=df.drop(['Price'],axis=1)\n",
    "display(opd,\"\\n\\n\", ipd)"
   ]
  },
  {
   "cell_type": "code",
   "execution_count": 31,
   "metadata": {},
   "outputs": [
    {
     "data": {
      "text/plain": [
       "((3911, 5), (978, 5), (3911,), (978,))"
      ]
     },
     "execution_count": 31,
     "metadata": {},
     "output_type": "execute_result"
    }
   ],
   "source": [
    "# separate dataset into train and test\n",
    "x_train, x_test, y_train, y_test = train_test_split(ipd,opd,test_size=0.2,random_state=42)\n",
    "x_train.shape, x_test.shape, y_train.shape, y_test.shape"
   ]
  },
  {
   "cell_type": "markdown",
   "metadata": {},
   "source": [
    "## Model Train, Predict and Evaluate"
   ]
  },
  {
   "cell_type": "code",
   "execution_count": 32,
   "metadata": {},
   "outputs": [],
   "source": [
    "def evaluate_model(true, predicted):\n",
    "    mae = mean_absolute_error(true, predicted)\n",
    "    mse = mean_squared_error(true, predicted)\n",
    "    rmse = np.sqrt(mean_squared_error(true, predicted))\n",
    "    r2_square = r2_score(true, predicted)\n",
    "    return mae, rmse, r2_square"
   ]
  },
  {
   "cell_type": "code",
   "execution_count": 33,
   "metadata": {},
   "outputs": [
    {
     "name": "stdout",
     "output_type": "stream",
     "text": [
      "Linear Regression\n",
      "Model performance for Training set\n",
      "- Root Mean Squared Error: 101186.3626\n",
      "- Mean Absolute Error: 81603.3137\n",
      "- R2 Score: 0.9141\n",
      "-------------------------\n",
      "Model performance for Test set\n",
      "- Root Mean Squared Error: 99440.9499\n",
      "- Mean Absolute Error: 79241.0528\n",
      "- R2 Score: 0.9182\n",
      " Accuracy of the model is 91.82\n",
      "==================================================\n",
      "\n",
      "\n",
      "Lasso\n",
      "Model performance for Training set\n",
      "- Root Mean Squared Error: 101186.3626\n",
      "- Mean Absolute Error: 81603.3117\n",
      "- R2 Score: 0.9141\n",
      "-------------------------\n",
      "Model performance for Test set\n",
      "- Root Mean Squared Error: 99440.9771\n",
      "- Mean Absolute Error: 79241.0809\n",
      "- R2 Score: 0.9182\n",
      " Accuracy of the model is 91.82\n",
      "==================================================\n",
      "\n",
      "\n",
      "Ridge\n",
      "Model performance for Training set\n",
      "- Root Mean Squared Error: 101186.3783\n",
      "- Mean Absolute Error: 81603.7295\n",
      "- R2 Score: 0.9141\n",
      "-------------------------\n",
      "Model performance for Test set\n",
      "- Root Mean Squared Error: 99440.8680\n",
      "- Mean Absolute Error: 79241.7441\n",
      "- R2 Score: 0.9182\n",
      " Accuracy of the model is 91.82\n",
      "==================================================\n",
      "\n",
      "\n",
      "K-Neighbors Regressor\n",
      "Model performance for Training set\n",
      "- Root Mean Squared Error: 200540.4391\n",
      "- Mean Absolute Error: 161462.0510\n",
      "- R2 Score: 0.6627\n",
      "-------------------------\n",
      "Model performance for Test set\n",
      "- Root Mean Squared Error: 244158.4485\n",
      "- Mean Absolute Error: 197168.9238\n",
      "- R2 Score: 0.5066\n",
      " Accuracy of the model is 50.66\n",
      "==================================================\n",
      "\n",
      "\n",
      "Decision Tree\n",
      "Model performance for Training set\n",
      "- Root Mean Squared Error: 0.0000\n",
      "- Mean Absolute Error: 0.0000\n",
      "- R2 Score: 1.0000\n",
      "-------------------------\n",
      "Model performance for Test set\n",
      "- Root Mean Squared Error: 167414.5093\n",
      "- Mean Absolute Error: 134691.2386\n",
      "- R2 Score: 0.7680\n",
      " Accuracy of the model is 76.80\n",
      "==================================================\n",
      "\n",
      "\n",
      "Random Forest Regressor\n",
      "Model performance for Training set\n",
      "- Root Mean Squared Error: 44372.7615\n",
      "- Mean Absolute Error: 35310.9976\n",
      "- R2 Score: 0.9835\n",
      "-------------------------\n",
      "Model performance for Test set\n",
      "- Root Mean Squared Error: 118444.4085\n",
      "- Mean Absolute Error: 94490.9282\n",
      "- R2 Score: 0.8839\n",
      " Accuracy of the model is 88.39\n",
      "==================================================\n",
      "\n",
      "\n",
      "XGBRegressor\n",
      "Model performance for Training set\n",
      "- Root Mean Squared Error: 46658.2053\n",
      "- Mean Absolute Error: 34778.7353\n",
      "- R2 Score: 0.9817\n",
      "-------------------------\n",
      "Model performance for Test set\n",
      "- Root Mean Squared Error: 120050.2511\n",
      "- Mean Absolute Error: 94869.3473\n",
      "- R2 Score: 0.8807\n",
      " Accuracy of the model is 88.07\n",
      "==================================================\n",
      "\n",
      "\n",
      "CatBoosting Regressor\n",
      "Model performance for Training set\n",
      "- Root Mean Squared Error: 76214.0127\n",
      "- Mean Absolute Error: 60772.3707\n",
      "- R2 Score: 0.9513\n",
      "-------------------------\n",
      "Model performance for Test set\n",
      "- Root Mean Squared Error: 104964.5415\n",
      "- Mean Absolute Error: 83666.1660\n",
      "- R2 Score: 0.9088\n",
      " Accuracy of the model is 90.88\n",
      "==================================================\n",
      "\n",
      "\n",
      "AdaBoost Regressor\n",
      "Model performance for Training set\n",
      "- Root Mean Squared Error: 136975.7318\n",
      "- Mean Absolute Error: 110374.7302\n",
      "- R2 Score: 0.8426\n",
      "-------------------------\n",
      "Model performance for Test set\n",
      "- Root Mean Squared Error: 147062.1235\n",
      "- Mean Absolute Error: 115553.5216\n",
      "- R2 Score: 0.8210\n",
      " Accuracy of the model is 82.10\n",
      "==================================================\n",
      "\n",
      "\n"
     ]
    }
   ],
   "source": [
    "models = {\n",
    "    \"Linear Regression\": LinearRegression(),\n",
    "    \"Lasso\": Lasso(),\n",
    "    \"Ridge\": Ridge(),\n",
    "    \"K-Neighbors Regressor\": KNeighborsRegressor(),\n",
    "    \"Decision Tree\": DecisionTreeRegressor(),\n",
    "    \"Random Forest Regressor\": RandomForestRegressor(),\n",
    "    \"XGBRegressor\": XGBRegressor(), \n",
    "    \"CatBoosting Regressor\": CatBoostRegressor(verbose=False),\n",
    "    \"AdaBoost Regressor\": AdaBoostRegressor()\n",
    "}\n",
    "model_list = []\n",
    "r2_list =[]\n",
    "\n",
    "for i in range(len(list(models))):\n",
    "    model = list(models.values())[i]\n",
    "    model.fit(x_train,y_train) # Train model\n",
    "\n",
    "    # Make predictions\n",
    "    y_train_pred = model.predict(x_train)\n",
    "    y_test_pred = model.predict(x_test)\n",
    "    \n",
    "    # Evaluate Train and Test dataset\n",
    "    model_train_mae , model_train_rmse, model_train_r2 = evaluate_model(y_train, y_train_pred)\n",
    "\n",
    "    model_test_mae , model_test_rmse, model_test_r2 = evaluate_model(y_test, y_test_pred)\n",
    "\n",
    "    print(list(models.keys())[i])\n",
    "    model_list.append(list(models.keys())[i])\n",
    "    \n",
    "    print('Model performance for Training set')\n",
    "    print(\"- Root Mean Squared Error: {:.4f}\".format(model_train_rmse))\n",
    "    print(\"- Mean Absolute Error: {:.4f}\".format(model_train_mae))\n",
    "    print(\"- R2 Score: {:.4f}\".format(model_train_r2))\n",
    "\n",
    "    print('-'*25)\n",
    "    \n",
    "    print('Model performance for Test set')\n",
    "    print(\"- Root Mean Squared Error: {:.4f}\".format(model_test_rmse))\n",
    "    print(\"- Mean Absolute Error: {:.4f}\".format(model_test_mae))\n",
    "    print(\"- R2 Score: {:.4f}\".format(model_test_r2))\n",
    "    score = model_test_r2*100\n",
    "    print(\" Accuracy of the model is %.2f\" %score)\n",
    "    r2_list.append(score)\n",
    "    \n",
    "    print('='*50)\n",
    "    print('\\n')"
   ]
  },
  {
   "cell_type": "code",
   "execution_count": 34,
   "metadata": {},
   "outputs": [
    {
     "name": "stdout",
     "output_type": "stream",
     "text": [
      "                Model Name      Score\n",
      "2                    Ridge  91.815096\n",
      "0        Linear Regression  91.815083\n",
      "1                    Lasso  91.815078\n",
      "7    CatBoosting Regressor  90.880543\n",
      "5  Random Forest Regressor  88.387843\n",
      "6             XGBRegressor  88.070839\n",
      "8       AdaBoost Regressor  82.098665\n",
      "4            Decision Tree  76.800964\n",
      "3    K-Neighbors Regressor  50.656805\n"
     ]
    }
   ],
   "source": [
    "df = pd.DataFrame(list(zip(model_list, r2_list)), columns=['Model Name', 'Score']).sort_values(by=[\"Score\"],ascending=False)\n",
    "print(df)\n",
    "df.to_excel(\"Datas/HPoutput.xlsx\")"
   ]
  },
  {
   "cell_type": "markdown",
   "metadata": {},
   "source": [
    "## Ridge Model"
   ]
  },
  {
   "cell_type": "code",
   "execution_count": 35,
   "metadata": {},
   "outputs": [],
   "source": [
    "modelR = Ridge().fit(x_train,y_train)"
   ]
  },
  {
   "cell_type": "code",
   "execution_count": 36,
   "metadata": {},
   "outputs": [],
   "source": [
    "y_train_pred = modelR.predict(x_train)\n",
    "y_test_pred = modelR.predict(x_test)"
   ]
  },
  {
   "cell_type": "code",
   "execution_count": 37,
   "metadata": {},
   "outputs": [
    {
     "name": "stdout",
     "output_type": "stream",
     "text": [
      "R^2 FOR train: 0.9141\n",
      "R^2 FOR TEST: 0.9182\n"
     ]
    }
   ],
   "source": [
    "print('R^2 FOR train: {0:.4f}'.format(r2_score(y_train, y_train_pred)))\n",
    "print('R^2 FOR TEST: {0:.4f}'.format(r2_score(y_test, y_test_pred)))"
   ]
  },
  {
   "cell_type": "code",
   "execution_count": 38,
   "metadata": {},
   "outputs": [],
   "source": [
    "filename = open('Datas/hpmodel.pkl', 'wb')\n",
    "pickle.dump(modelR,filename )\n",
    "filename.close()"
   ]
  }
 ],
 "metadata": {
  "kernelspec": {
   "display_name": "Python 3 (ipykernel)",
   "language": "python",
   "name": "python3"
  },
  "language_info": {
   "codemirror_mode": {
    "name": "ipython",
    "version": 3
   },
   "file_extension": ".py",
   "mimetype": "text/x-python",
   "name": "python",
   "nbconvert_exporter": "python",
   "pygments_lexer": "ipython3",
   "version": "3.10.13"
  }
 },
 "nbformat": 4,
 "nbformat_minor": 4
}
